{
  "cells": [
    {
      "cell_type": "markdown",
      "metadata": {
        "id": "woUaua5t4i2F"
      },
      "source": [
        "# PRACTICE EXERCISES:\n",
        "\n",
        "<a href = '#sec1'> 1.Introduction to Variables </a>\n",
        "\n",
        "<a href = '#sec2'> 2. Collection of Variables </a>\n",
        "\n",
        "<a href = '#sec3'> 3. Data Types </a>\n",
        "\n",
        "<a href = '#sec4'> 4. Conditional Statement </a>\n",
        "\n",
        "<a href = '#sec5'> 5. Loop Statement </a>\n",
        "\n",
        "<a href = '#sec6'> 6. Functions </a>"
      ]
    },
    {
      "cell_type": "markdown",
      "metadata": {
        "id": "JsoAqb0Z4i2L"
      },
      "source": [
        "<a id = 'sec1'></a>\n",
        "\n",
        "## 1. Introduction to Variables"
      ]
    },
    {
      "cell_type": "markdown",
      "metadata": {
        "id": "4MofaxS74i2N"
      },
      "source": [
        "### 1.1) What will be the type of the *add* variable?\n",
        "a = 10\n",
        "\n",
        "b = 5.1\n",
        "\n",
        "add = a + b"
      ]
    },
    {
      "cell_type": "code",
      "execution_count": 18,
      "metadata": {
        "colab": {
          "base_uri": "https://localhost:8080/"
        },
        "id": "RKHcjwP65O_H",
        "outputId": "59d06128-4b0c-4085-8a54-3638dbc6344d"
      },
      "outputs": [
        {
          "data": {
            "text/plain": [
              "float"
            ]
          },
          "execution_count": 18,
          "metadata": {},
          "output_type": "execute_result"
        }
      ],
      "source": [
        "a = 10\n",
        "\n",
        "b = 5.1\n",
        "\n",
        "add = a + b\n",
        "type(add)\n",
        "\n"
      ]
    },
    {
      "cell_type": "markdown",
      "metadata": {
        "id": "DqwC_DI64i2P"
      },
      "source": [
        "### 1.2) Is 5 = (3+2)?"
      ]
    },
    {
      "cell_type": "code",
      "execution_count": 7,
      "metadata": {
        "colab": {
          "base_uri": "https://localhost:8080/"
        },
        "id": "JUZHKfr_5tNv",
        "outputId": "c0a6ecf0-1106-464e-a0dc-b66aa5608c2f"
      },
      "outputs": [
        {
          "name": "stdout",
          "output_type": "stream",
          "text": [
            "5\n",
            "True\n"
          ]
        }
      ],
      "source": [
        "x = (3+2)\n",
        "print(x)\n",
        "print(x==5)\n",
        "## answer\n",
        "#YES\n"
      ]
    },
    {
      "cell_type": "markdown",
      "metadata": {
        "id": "tmsuEQM04i2Q"
      },
      "source": [
        "### 1.3) Add 33 in variable *a* and print the result\n",
        "\n",
        "a = 3"
      ]
    },
    {
      "cell_type": "code",
      "execution_count": 1,
      "metadata": {
        "ExecuteTime": {
          "end_time": "2021-05-20T14:48:25.498751Z",
          "start_time": "2021-05-20T14:48:25.486530Z"
        },
        "colab": {
          "base_uri": "https://localhost:8080/"
        },
        "id": "gQGCS38S4i2R",
        "outputId": "fcf03f20-ad94-48a0-d7e0-8bb768d6d0a9"
      },
      "outputs": [
        {
          "name": "stdout",
          "output_type": "stream",
          "text": [
            "36\n"
          ]
        }
      ],
      "source": [
        "a = 3\n",
        "b = 33\n",
        "c = a + b\n",
        "\n",
        "print(c)\n"
      ]
    },
    {
      "cell_type": "markdown",
      "metadata": {
        "id": "NIH5P0pX4i2S"
      },
      "source": [
        "### 1.4) Convert integer variable *a* to float and check its type\n",
        "\n",
        "a = 3"
      ]
    },
    {
      "cell_type": "code",
      "execution_count": 12,
      "metadata": {
        "ExecuteTime": {
          "end_time": "2021-05-20T14:48:25.508158Z",
          "start_time": "2021-05-20T14:48:25.500721Z"
        },
        "colab": {
          "base_uri": "https://localhost:8080/"
        },
        "id": "iKqEQzM74i2T",
        "outputId": "d5a65567-a7a8-4abc-8ac5-6b8acd1fc596"
      },
      "outputs": [
        {
          "name": "stdout",
          "output_type": "stream",
          "text": [
            "3.0\n"
          ]
        },
        {
          "data": {
            "text/plain": [
              "int"
            ]
          },
          "execution_count": 12,
          "metadata": {},
          "output_type": "execute_result"
        }
      ],
      "source": [
        "a =3\n",
        "print(float(a))\n",
        "type(a)"
      ]
    },
    {
      "cell_type": "markdown",
      "metadata": {
        "id": "mc3XZ99M4i2U"
      },
      "source": [
        "<a id = 'sec2'></a>\n",
        "## 2. Collection of Variables"
      ]
    },
    {
      "cell_type": "markdown",
      "metadata": {
        "id": "7qL8vkV74i2U"
      },
      "source": [
        "### 2.1) Create a list of repeated element (element 2,48 times)"
      ]
    },
    {
      "cell_type": "code",
      "execution_count": 15,
      "metadata": {
        "colab": {
          "base_uri": "https://localhost:8080/"
        },
        "id": "m4Y_1rME61h3",
        "outputId": "f74ef195-38fe-4f43-a2de-c07a4f182df9"
      },
      "outputs": [
        {
          "name": "stdout",
          "output_type": "stream",
          "text": [
            "[2, 2, 2, 2, 2, 2, 2, 2, 2, 2, 2, 2, 2, 2, 2, 2, 2, 2, 2, 2, 2, 2, 2, 2, 2, 2, 2, 2, 2, 2, 2, 2, 2, 2, 2, 2, 2, 2, 2, 2, 2, 2, 2, 2, 2, 2, 2, 2]\n"
          ]
        }
      ],
      "source": [
        "a = ([2] * 48)\n",
        "print(a)"
      ]
    },
    {
      "cell_type": "markdown",
      "metadata": {
        "id": "4xC5wjD94i2V"
      },
      "source": [
        "### 2.2)  Replace the second element of the list with \"strawberries\"\n",
        "list = [\"apple\",\"orange\",\"grapes\",\"watermelon\"]"
      ]
    },
    {
      "cell_type": "code",
      "execution_count": 85,
      "metadata": {
        "colab": {
          "base_uri": "https://localhost:8080/"
        },
        "id": "MaQJ5aJz4i2V",
        "outputId": "6cca9df9-e912-42a7-c77c-57b2573cec43"
      },
      "outputs": [
        {
          "name": "stdout",
          "output_type": "stream",
          "text": [
            "['apple', 'strawberries', 'grapes', 'watermelon']\n"
          ]
        }
      ],
      "source": [
        "list = [\"apple\",\"orange\",\"grapes\",\"watermelon\"]\n",
        "a = \"strawberries\"\n",
        "\n",
        "list = [\"apple\",a,\"grapes\",\"watermelon\"]\n",
        "print(list)"
      ]
    },
    {
      "cell_type": "markdown",
      "metadata": {
        "id": "F_lElqbs4i2X"
      },
      "source": [
        "### 2.3) Check length of list\n",
        "\n",
        "List1 =[\"a\",\"b\",\"c\",\"d\",\"e\"]"
      ]
    },
    {
      "cell_type": "code",
      "execution_count": 16,
      "metadata": {
        "ExecuteTime": {
          "end_time": "2021-05-20T14:48:25.628548Z",
          "start_time": "2021-05-20T14:48:25.619539Z"
        },
        "colab": {
          "base_uri": "https://localhost:8080/"
        },
        "id": "9Bbo1Xxe4i2X",
        "outputId": "6b53a8ca-aa81-4e14-c979-0645be4e2ce5"
      },
      "outputs": [
        {
          "name": "stdout",
          "output_type": "stream",
          "text": [
            "5\n"
          ]
        }
      ],
      "source": [
        "List1 =[\"a\",\"b\",\"c\",\"d\",\"e\"]\n",
        "print(len(List1))"
      ]
    },
    {
      "cell_type": "markdown",
      "metadata": {
        "id": "CbX216cq4i2Y"
      },
      "source": [
        "### 2.4) Create a dictionary with the following information:\n",
        "\n",
        "brand = Audi\n",
        "\n",
        "Model = Q2\n",
        "\n",
        "Year = 1980"
      ]
    },
    {
      "cell_type": "code",
      "execution_count": 56,
      "metadata": {
        "ExecuteTime": {
          "end_time": "2021-05-20T14:48:25.638636Z",
          "start_time": "2021-05-20T14:48:25.630590Z"
        },
        "id": "wi8N2xIj4i2Y"
      },
      "outputs": [
        {
          "name": "stdout",
          "output_type": "stream",
          "text": [
            "{'brand': 'Audi', 'Model': 'Q2', 'Year': '1980'}\n"
          ]
        }
      ],
      "source": [
        "Book = {\n",
        "    \"brand\": \"Audi\",\n",
        "    \"Model\": \"Q2\",\n",
        "    \"Year\": \"1980\"\n",
        "}\n",
        "print(Book)"
      ]
    },
    {
      "cell_type": "markdown",
      "metadata": {
        "id": "YgLQuEwp4i2Z"
      },
      "source": [
        "### 2.5) Create a set of following elements\n",
        "\n",
        "1.0, \"Hello\", 55 , (6,7,8)"
      ]
    },
    {
      "cell_type": "code",
      "execution_count": 41,
      "metadata": {
        "ExecuteTime": {
          "end_time": "2021-05-20T14:48:25.658787Z",
          "start_time": "2021-05-20T14:48:25.650828Z"
        },
        "id": "qtf_IMZ94i2Z"
      },
      "outputs": [
        {
          "name": "stdout",
          "output_type": "stream",
          "text": [
            "{1.0, (6, 7, 8), 'Hello', 55}\n"
          ]
        }
      ],
      "source": [
        "elements = {1.0,\"Hello\",55,(6,7,8)}\n",
        "print(elements)"
      ]
    },
    {
      "cell_type": "markdown",
      "metadata": {
        "id": "6c59BWKH4i2Z"
      },
      "source": [
        "<a id = 'sec3'></a>\n",
        "\n",
        "## 3. Data Types and String Manipulation"
      ]
    },
    {
      "cell_type": "markdown",
      "metadata": {
        "id": "7JHGTKPa4i2a"
      },
      "source": [
        "\n",
        "### 3.1) Printing your name My_Name = \"My name is Jupyter!\" Also, check if My_Name is all Caps or not. Use isupper() to check returns True if all the letters are Capitals, False if atleast one letter in in lower case.\n",
        "HINT: My_Name.isupper()"
      ]
    },
    {
      "cell_type": "code",
      "execution_count": 42,
      "metadata": {
        "ExecuteTime": {
          "end_time": "2021-05-20T14:48:25.698733Z",
          "start_time": "2021-05-20T14:48:25.690738Z"
        },
        "id": "7aN5X8F44i2a"
      },
      "outputs": [
        {
          "data": {
            "text/plain": [
              "False"
            ]
          },
          "execution_count": 42,
          "metadata": {},
          "output_type": "execute_result"
        }
      ],
      "source": [
        "My_Name = \"My name is Jupyter!\"\n",
        "My_Name.isupper()"
      ]
    },
    {
      "cell_type": "markdown",
      "metadata": {
        "id": "yVHC3_US4i2a"
      },
      "source": [
        "### 3.2)  Convert My_Name to all caps. Hint: My_Name.upper()."
      ]
    },
    {
      "cell_type": "code",
      "execution_count": 44,
      "metadata": {
        "ExecuteTime": {
          "end_time": "2021-05-20T14:48:25.717918Z",
          "start_time": "2021-05-20T14:48:25.709391Z"
        },
        "id": "cfcyVS0I4i2b"
      },
      "outputs": [
        {
          "name": "stdout",
          "output_type": "stream",
          "text": [
            "MY NAME IS JUPYTER!\n"
          ]
        }
      ],
      "source": [
        "My_Name = \"My name is Jupyter!\"\n",
        "print(My_Name.upper())"
      ]
    },
    {
      "cell_type": "markdown",
      "metadata": {
        "id": "ylpAo70K4i2b"
      },
      "source": [
        "### 3.3) if int1 = \"500\", what is the Datatype of int1"
      ]
    },
    {
      "cell_type": "code",
      "execution_count": 45,
      "metadata": {
        "ExecuteTime": {
          "end_time": "2021-05-20T14:48:25.738721Z",
          "start_time": "2021-05-20T14:48:25.720391Z"
        },
        "id": "EBYUiO4m4i2b"
      },
      "outputs": [
        {
          "data": {
            "text/plain": [
              "str"
            ]
          },
          "execution_count": 45,
          "metadata": {},
          "output_type": "execute_result"
        }
      ],
      "source": [
        "int1 = \"500\"\n",
        "type(int1)"
      ]
    },
    {
      "cell_type": "markdown",
      "metadata": {
        "id": "n2hhXP3G4i2c"
      },
      "source": [
        "<a id = 'sec4'></a>\n",
        "\n",
        "## 4. Practice Exercise on Conditional Statement"
      ]
    },
    {
      "cell_type": "markdown",
      "metadata": {
        "id": "Dkf9fgT-4i2c"
      },
      "source": [
        "### 4.1) if x = 20 and y = 30. Write a python code to check if x is less than y."
      ]
    },
    {
      "cell_type": "code",
      "execution_count": 48,
      "metadata": {
        "ExecuteTime": {
          "end_time": "2021-05-20T14:48:25.789559Z",
          "start_time": "2021-05-20T14:48:25.780049Z"
        },
        "id": "QgmV7Rdq4i2d"
      },
      "outputs": [
        {
          "name": "stdout",
          "output_type": "stream",
          "text": [
            "x is less than y\n"
          ]
        }
      ],
      "source": [
        "x = 20\n",
        "y = 30\n",
        "\n",
        "if (x < y):\n",
        "    print(\"x is less than y\")\n",
        "else:\n",
        "    print(\"x is greater than y\")"
      ]
    },
    {
      "cell_type": "markdown",
      "metadata": {
        "id": "xa8-Rj1k4i2d"
      },
      "source": [
        "### 4.2) Check if *a* is equal to 10, If yes, print \"Hello\", else print \"Good Bye\"\n",
        "a = 56"
      ]
    },
    {
      "cell_type": "code",
      "execution_count": 49,
      "metadata": {
        "ExecuteTime": {
          "end_time": "2021-05-20T14:48:25.818796Z",
          "start_time": "2021-05-20T14:48:25.798761Z"
        },
        "id": "Wq3SnSlP4i2d"
      },
      "outputs": [
        {
          "name": "stdout",
          "output_type": "stream",
          "text": [
            "Good Bye\n"
          ]
        }
      ],
      "source": [
        "a = 56\n",
        "if (a == 10):\n",
        "    print(\"Hello\")\n",
        "else:\n",
        "    print(\"Good Bye\")"
      ]
    },
    {
      "cell_type": "markdown",
      "metadata": {
        "id": "79kl_Aud4i2d"
      },
      "source": [
        "### 4.3) Check whether a number is even or odd\n",
        "a = 2020"
      ]
    },
    {
      "cell_type": "code",
      "execution_count": 61,
      "metadata": {
        "ExecuteTime": {
          "end_time": "2021-05-20T14:48:25.836915Z",
          "start_time": "2021-05-20T14:48:25.820893Z"
        },
        "id": "24UU5oh34i2d"
      },
      "outputs": [
        {
          "name": "stdout",
          "output_type": "stream",
          "text": [
            "2021 is odd\n"
          ]
        }
      ],
      "source": [
        "a = 2021\n",
        "\n",
        "if a % 2 == 0:\n",
        "    print(f\"{a} is even\")\n",
        "else:\n",
        "    print(f\"{a} is odd\")\n",
        "\n",
        "\n"
      ]
    },
    {
      "cell_type": "markdown",
      "metadata": {
        "id": "VACa4T6s4i2e"
      },
      "source": [
        "### 4.4) Check if the word \"Data\" is present in the sentence \"I am a Data Scientist\". If found, print \"It is present\" else print FALSE."
      ]
    },
    {
      "cell_type": "code",
      "execution_count": 91,
      "metadata": {
        "ExecuteTime": {
          "end_time": "2021-05-20T14:48:25.868457Z",
          "start_time": "2021-05-20T14:48:25.860437Z"
        },
        "id": "5lmhPnqm4i2o"
      },
      "outputs": [
        {
          "name": "stdout",
          "output_type": "stream",
          "text": [
            "It is present\n"
          ]
        }
      ],
      "source": [
        "sentence = \"I am a Data Scientist\"\n",
        "if \"Data\" in sentence:\n",
        "    print(\"Data is present\")\n",
        "else:\n",
        "    print(\"FALSE\")\n"
      ]
    },
    {
      "cell_type": "markdown",
      "metadata": {
        "id": "oNav0Ycl4i2o"
      },
      "source": [
        "### 4.5) Write python code to check if a number is positive or negative."
      ]
    },
    {
      "cell_type": "code",
      "execution_count": 76,
      "metadata": {
        "ExecuteTime": {
          "end_time": "2021-05-20T14:48:25.888736Z",
          "start_time": "2021-05-20T14:48:25.880718Z"
        },
        "id": "t91XS33m4i2o"
      },
      "outputs": [
        {
          "name": "stdout",
          "output_type": "stream",
          "text": [
            "0 is positive\n"
          ]
        }
      ],
      "source": [
        "a = int(input('Enter a number(+/-):'))\n",
        "\n",
        "if (a >= 0):\n",
        "    print(f\"{a} is positive\")\n",
        "else:\n",
        "    print(f\"{a} is negative\")\n"
      ]
    },
    {
      "cell_type": "markdown",
      "metadata": {
        "id": "rmaJucHf4i2o"
      },
      "source": [
        "<a id = 'sec5'></a>\n",
        "\n",
        "## 5. Practice Exercise on Loops"
      ]
    },
    {
      "cell_type": "markdown",
      "metadata": {
        "id": "LgmW_f2v4i2p"
      },
      "source": [
        "### 5.1) Print Data Science 5 times using for loop"
      ]
    },
    {
      "cell_type": "code",
      "execution_count": 54,
      "metadata": {
        "ExecuteTime": {
          "end_time": "2021-05-20T14:48:25.928325Z",
          "start_time": "2021-05-20T14:48:25.910937Z"
        },
        "id": "u59x4Z3H4i2p"
      },
      "outputs": [
        {
          "name": "stdout",
          "output_type": "stream",
          "text": [
            "Data Science\n",
            "Data Science\n",
            "Data Science\n",
            "Data Science\n",
            "Data Science\n"
          ]
        }
      ],
      "source": [
        "for a in range(5):\n",
        "    print(\"Data Science\")"
      ]
    },
    {
      "cell_type": "markdown",
      "metadata": {
        "id": "yJOniQHk4i2q"
      },
      "source": [
        "Note: Remember to keep the index as one more than what is required. In the above code the indexing is done from 0 to 5 which are 6 places but Python has printed it 5 times."
      ]
    },
    {
      "cell_type": "markdown",
      "metadata": {
        "id": "9KjTkCeJ4i2q"
      },
      "source": [
        "### 5.2) Print all the even numbers from 1 to 20 (both inclusive) using for loop."
      ]
    },
    {
      "cell_type": "code",
      "execution_count": 79,
      "metadata": {
        "ExecuteTime": {
          "end_time": "2021-05-20T14:48:25.968679Z",
          "start_time": "2021-05-20T14:48:25.950257Z"
        },
        "id": "i5SZ8os_4i2r"
      },
      "outputs": [
        {
          "name": "stdout",
          "output_type": "stream",
          "text": [
            "2\n",
            "4\n",
            "6\n",
            "8\n",
            "10\n",
            "12\n",
            "14\n",
            "16\n",
            "18\n",
            "20\n"
          ]
        }
      ],
      "source": [
        "for a in range(1,21):\n",
        "    if (a % 2 == 0):\n",
        "        print(a)"
      ]
    },
    {
      "cell_type": "markdown",
      "metadata": {
        "id": "OR0EaYFD4i2r"
      },
      "source": [
        "<a id = 'sec6'></a>\n",
        "\n",
        "## 6. Function"
      ]
    },
    {
      "cell_type": "markdown",
      "metadata": {
        "id": "HGPDPNLB4i2r"
      },
      "source": [
        "### 6.1) Define the python function to check whether the number 33 is even or odd"
      ]
    },
    {
      "cell_type": "code",
      "execution_count": 81,
      "metadata": {
        "id": "EGl1Q2Jh4i2r"
      },
      "outputs": [
        {
          "name": "stdout",
          "output_type": "stream",
          "text": [
            "Odd\n"
          ]
        }
      ],
      "source": [
        "def even_odd():\n",
        "    number = 33\n",
        "    if number % 2 == 0:\n",
        "        return \"Even\"\n",
        "    else:\n",
        "        return \"Odd\"\n",
        "\n",
        "oddeven = even_odd()\n",
        "print(oddeven)\n"
      ]
    },
    {
      "cell_type": "code",
      "execution_count": null,
      "metadata": {
        "id": "BW_2FjO24i2r"
      },
      "outputs": [],
      "source": []
    },
    {
      "cell_type": "markdown",
      "metadata": {
        "id": "J-yZOqnH4i2r"
      },
      "source": [
        "### 6.2)Write the python program to get the unique values from the given list"
      ]
    },
    {
      "cell_type": "code",
      "execution_count": 87,
      "metadata": {
        "id": "-xiGKM_z4i2s"
      },
      "outputs": [
        {
          "ename": "TypeError",
          "evalue": "'list' object is not callable",
          "output_type": "error",
          "traceback": [
            "\u001b[1;31m---------------------------------------------------------------------------\u001b[0m",
            "\u001b[1;31mTypeError\u001b[0m                                 Traceback (most recent call last)",
            "Cell \u001b[1;32mIn[87], line 6\u001b[0m\n\u001b[0;32m      3\u001b[0m     \u001b[38;5;28;01mreturn\u001b[39;00m unique_values\n\u001b[0;32m      5\u001b[0m input_list \u001b[38;5;241m=\u001b[39m [\u001b[38;5;241m1\u001b[39m, \u001b[38;5;241m2\u001b[39m, \u001b[38;5;241m2\u001b[39m, \u001b[38;5;241m3\u001b[39m, \u001b[38;5;241m4\u001b[39m, \u001b[38;5;241m4\u001b[39m, \u001b[38;5;241m5\u001b[39m, \u001b[38;5;241m6\u001b[39m, \u001b[38;5;241m6\u001b[39m, \u001b[38;5;241m7\u001b[39m]\n\u001b[1;32m----> 6\u001b[0m unique_values \u001b[38;5;241m=\u001b[39m \u001b[43mget_unique_values\u001b[49m\u001b[43m(\u001b[49m\u001b[43minput_list\u001b[49m\u001b[43m)\u001b[49m\n\u001b[0;32m      7\u001b[0m \u001b[38;5;28mprint\u001b[39m(\u001b[38;5;124m\"\u001b[39m\u001b[38;5;124mUnique values:\u001b[39m\u001b[38;5;124m\"\u001b[39m, unique_values)\n",
            "Cell \u001b[1;32mIn[87], line 2\u001b[0m, in \u001b[0;36mget_unique_values\u001b[1;34m(input_list)\u001b[0m\n\u001b[0;32m      1\u001b[0m \u001b[38;5;28;01mdef\u001b[39;00m \u001b[38;5;21mget_unique_values\u001b[39m(input_list):\n\u001b[1;32m----> 2\u001b[0m     unique_values \u001b[38;5;241m=\u001b[39m \u001b[38;5;28;43mlist\u001b[39;49m\u001b[43m(\u001b[49m\u001b[38;5;28;43mset\u001b[39;49m\u001b[43m(\u001b[49m\u001b[43minput_list\u001b[49m\u001b[43m)\u001b[49m\u001b[43m)\u001b[49m  \u001b[38;5;66;03m# Convert list to set to remove duplicates, then back to list\u001b[39;00m\n\u001b[0;32m      3\u001b[0m     \u001b[38;5;28;01mreturn\u001b[39;00m unique_values\n",
            "\u001b[1;31mTypeError\u001b[0m: 'list' object is not callable"
          ]
        }
      ],
      "source": []
    },
    {
      "cell_type": "code",
      "execution_count": null,
      "metadata": {
        "id": "8TgQpUiG4i2s"
      },
      "outputs": [],
      "source": []
    },
    {
      "cell_type": "markdown",
      "metadata": {
        "id": "q8YS0BoJ4i2u"
      },
      "source": [
        "### 6.3) Define the python function which adds two global numeric variables (1204 and 344536) Without Argument."
      ]
    },
    {
      "cell_type": "code",
      "execution_count": 90,
      "metadata": {
        "id": "Uh7uOBl-4i2u"
      },
      "outputs": [
        {
          "name": "stdout",
          "output_type": "stream",
          "text": [
            "345740\n"
          ]
        }
      ],
      "source": [
        "x = 1204\n",
        "y = 344536\n",
        "\n",
        "def z():\n",
        "    return x+y\n",
        "\n",
        "result = z()\n",
        "print(result)\n",
        "\n"
      ]
    },
    {
      "cell_type": "code",
      "execution_count": null,
      "metadata": {
        "id": "m910NpCy4i2v"
      },
      "outputs": [],
      "source": []
    },
    {
      "cell_type": "markdown",
      "metadata": {
        "id": "2ZdvpIIC4i2v"
      },
      "source": [
        "## Keep Learning!"
      ]
    }
  ],
  "metadata": {
    "colab": {
      "provenance": []
    },
    "kernelspec": {
      "display_name": "Python 3",
      "language": "python",
      "name": "python3"
    },
    "language_info": {
      "codemirror_mode": {
        "name": "ipython",
        "version": 3
      },
      "file_extension": ".py",
      "mimetype": "text/x-python",
      "name": "python",
      "nbconvert_exporter": "python",
      "pygments_lexer": "ipython3",
      "version": "3.12.5"
    },
    "toc": {
      "base_numbering": 1,
      "nav_menu": {},
      "number_sections": true,
      "sideBar": true,
      "skip_h1_title": false,
      "title_cell": "Table of Contents",
      "title_sidebar": "Contents",
      "toc_cell": false,
      "toc_position": {},
      "toc_section_display": true,
      "toc_window_display": false
    }
  },
  "nbformat": 4,
  "nbformat_minor": 0
}
